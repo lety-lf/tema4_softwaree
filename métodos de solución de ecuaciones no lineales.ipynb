{
 "cells": [
  {
   "cell_type": "code",
   "execution_count": null,
   "metadata": {},
   "outputs": [],
   "source": [
    "#Materia:Metodos Numericos\n",
    "#Docente:MM.Jorge Pool Cen\n",
    "#unidad 2\n",
    "#Sistemas computacionales 4-A\n",
    "#Alumna:\n",
  "#Leticia Kauil"
   ]
  },
  {
   "cell_type": "markdown",
   "metadata": {},
   "source": [
    "**METODO DE NEWTON RAPSON**\n"
   ]
  },
  {
   "cell_type": "code",
   "execution_count": 11,
   "metadata": {},
   "outputs": [],
   "source": [
    "import math\n",
    "def fx(x):\n",
    "    return math.exp(-x)-x\n",
    "\n",
    "def derivadafx(x):\n",
    "    return -math.exp(-x)-1\n",
    "\n",
    "def errorabsoluto(xactual,xanterior):\n",
    "    return ((xactual-xanterior)/xactual)"
   ]
  },
  {
   "cell_type": "code",
   "execution_count": 12,
   "metadata": {},
   "outputs": [],
   "source": [
    "def newton(x,cota,iteraciones):\n",
    "    error=1\n",
    "    while error>cota:\n",
    "        xactual=x-(fx(x)/derivadafx(x))\n",
    "        error=errorabsoluto(xactual,x)\n",
    "        x=xactual\n",
    "        print (\"Raiz: \",xactual,\" Error: \",error)"
   ]
  },
  {
   "cell_type": "code",
   "execution_count": 13,
   "metadata": {},
   "outputs": [
    {
     "name": "stdout",
     "output_type": "stream",
     "text": [
      "Raiz:  0.5  Error:  1.0\n",
      "Raiz:  0.5663110031972182  Error:  0.11709290976662397\n",
      "Raiz:  0.5671431650348622  Error:  0.0014672870783743904\n"
     ]
    }
   ],
   "source": [
    "newton(0,0.01,10)"
   ]
  },
  {
   "cell_type": "code",
   "execution_count": null,
   "metadata": {},
   "outputs": [],
   "source": []
  },
  {
   "cell_type": "markdown",
   "metadata": {},
   "source": [
    "**METODO DE PUNTO FIJO**"
   ]
  },
  {
   "cell_type": "code",
   "execution_count": 14,
   "metadata": {},
   "outputs": [],
   "source": [
    "import math\n",
    "def fx(x):\n",
    "    return math.exp(-2*x)\n",
    "\n",
    "def errorabsoluto(xactual,xanterior):\n",
    "    return abs(((xactual-xanterior)/xactual))"
   ]
  },
  {
   "cell_type": "code",
   "execution_count": 15,
   "metadata": {},
   "outputs": [],
   "source": [
    "import math\n",
    "\n",
    "def punto_fijo(x,cota,iteraciones):\n",
    "    error=1\n",
    "    while error>cota:\n",
    "        xactual=fx(x)\n",
    "        error=errorabsoluto(xactual,x)\n",
    "        x=xactual\n",
    "        if error>=cota:\n",
    "            print (\"Raiz: \",xactual,\" Error: \",error)"
   ]
  },
  {
   "cell_type": "code",
   "execution_count": 16,
   "metadata": {},
   "outputs": [
    {
     "name": "stdout",
     "output_type": "stream",
     "text": [
      "Raiz:  1.0  Error:  1.0\n",
      "Raiz:  0.1353352832366127  Error:  6.3890560989306495\n",
      "Raiz:  0.7628677692336272  Error:  0.8225966691808597\n",
      "Raiz:  0.2174610470605212  Error:  2.50806629300058\n",
      "Raiz:  0.6473150947651227  Error:  0.6640568884934985\n",
      "Raiz:  0.27399917336073404  Error:  1.3624709769211567\n",
      "Raiz:  0.5781058204396716  Error:  0.5260397600696233\n",
      "Raiz:  0.31467603148281076  Error:  0.8371460251215567\n",
      "Raiz:  0.5329369987801098  Error:  0.4095436567491042\n",
      "Raiz:  0.3444266950887966  Error:  0.5473161818735143\n",
      "Raiz:  0.5021515109541463  Error:  0.3140980608933233\n",
      "Raiz:  0.3662998488240196  Error:  0.3708755615550187\n",
      "Raiz:  0.4806577994854056  Error:  0.23791968170248798\n",
      "Raiz:  0.38238948369875797  Error:  0.25698488053626045\n",
      "Raiz:  0.46543679631197865  Error:  0.17842876470289795\n",
      "Raiz:  0.3942091816712422  Error:  0.18068481900591044\n",
      "Raiz:  0.4545631808100816  Error:  0.13277362022872588\n",
      "Raiz:  0.40287603830141255  Error:  0.12829540006050005\n",
      "Raiz:  0.4467518085994552  Error:  0.0982106159471206\n",
      "Raiz:  0.4092194897213167  Error:  0.09171684101287163\n",
      "Raiz:  0.4411197142707957  Error:  0.0723164789907712\n",
      "Raiz:  0.4138550742911261  Error:  0.06587968028752575\n",
      "Raiz:  0.43704891846577737  Error:  0.05306921764289282\n",
      "Raiz:  0.4172382668899503  Error:  0.04748042820591111\n",
      "Raiz:  0.4341016595226246  Error:  0.03884664401241569\n",
      "Raiz:  0.4197049481231729  Error:  0.03430198157975166\n",
      "Raiz:  0.4319653526098805  Error:  0.02838284231045799\n",
      "Raiz:  0.42150202165392464  Error:  0.024823916418950914\n",
      "Raiz:  0.43041559230864557  Error:  0.020709218750442286\n",
      "Raiz:  0.4228105026383573  Error:  0.01798699328146336\n",
      "Raiz:  0.42929068363636785  Error:  0.015095088817486719\n",
      "Raiz:  0.4237628199089161  Error:  0.013044711493660285\n",
      "Raiz:  0.428473819932487  Error:  0.010994837500954393\n"
     ]
    }
   ],
   "source": [
    "punto_fijo(0,0.01,10)"
   ]
  },
  {
   "cell_type": "code",
   "execution_count": null,
   "metadata": {},
   "outputs": [],
   "source": []
  },
  {
   "cell_type": "markdown",
   "metadata": {},
   "source": [
    "**METODO DE BISECCION**"
   ]
  },
  {
   "cell_type": "code",
   "execution_count": 17,
   "metadata": {},
   "outputs": [],
   "source": [
    "import math\n",
    "def fxi(xi):\n",
    "    return math.pow(xi,3)+4*math.pow(xi,2)-10\n",
    "\n",
    "def fxr(xr):\n",
    "    return math.pow(xr,3)+4*math.pow(xr,2)-10\n",
    "\n",
    "def fxrporfxi(xi,xr):\n",
    "    return fxr(xr)*fxi(xi)\n",
    "\n",
    "def errorabsoluto(xactual,xanterior):\n",
    "    if xactual!=0:\n",
    "        return abs(((xactual-xanterior)/xactual))\n",
    "    else:\n",
    "        return 1.0"
   ]
  },
  {
   "cell_type": "code",
   "execution_count": 18,
   "metadata": {},
   "outputs": [],
   "source": [
    "def biseccion(xi,xs,cota,iteraciones):\n",
    "    error=1\n",
    "    if fxrporfxi(xi,xs)<0:\n",
    "        while error>cota:\n",
    "            xr=(xi+xs)/2\n",
    "            error=errorabsoluto(xr,xi)\n",
    "            if error>cota:\n",
    "                print (\"Raiz: \",xr,\"Error: \",error)\n",
    "            if fxrporfxi(xi,xr)<0:\n",
    "                xs=xr\n",
    "            if fxrporfxi(xi,xr)>0:\n",
    "                xi=xr\n",
    "            if fxrporfxi(xi,xr)==0:\n",
    "                error=cota\n",
    "    else:\n",
    "        print(\"No hay raiz en ese intevalo\")"
   ]
  },
  {
   "cell_type": "code",
   "execution_count": 19,
   "metadata": {},
   "outputs": [
    {
     "name": "stdout",
     "output_type": "stream",
     "text": [
      "Raiz:  0.0 Error:  1.0\n",
      "Raiz:  1.0 Error:  1.0\n",
      "Raiz:  1.5 Error:  0.3333333333333333\n",
      "Raiz:  1.25 Error:  0.2\n",
      "Raiz:  1.375 Error:  0.09090909090909091\n",
      "Raiz:  1.3125 Error:  0.047619047619047616\n",
      "Raiz:  1.34375 Error:  0.023255813953488372\n",
      "Raiz:  1.359375 Error:  0.011494252873563218\n",
      "Raiz:  1.3671875 Error:  0.005714285714285714\n",
      "Raiz:  1.36328125 Error:  0.0028653295128939827\n",
      "Raiz:  1.365234375 Error:  0.001430615164520744\n"
     ]
    }
   ],
   "source": [
    "biseccion(-2,2,0.001,10)"
   ]
  },
  {
   "cell_type": "code",
   "execution_count": null,
   "metadata": {},
   "outputs": [],
   "source": []
  },
  {
   "cell_type": "markdown",
   "metadata": {},
   "source": [
    "**METODO DE SECANTE**"
   ]
  },
  {
   "cell_type": "code",
   "execution_count": 20,
   "metadata": {},
   "outputs": [],
   "source": [
    "import math\n",
    "\n",
    "def fxsecan(x):\n",
    "    return math.exp(-math.pow(x,3))-x\n",
    "\n",
    "def errorabsoluto(xactual,xanterior):\n",
    "    return abs(((xactual-xanterior)/xactual))"
   ]
  },
  {
   "cell_type": "code",
   "execution_count": 21,
   "metadata": {},
   "outputs": [],
   "source": [
    "def secante(xo,xi,cota,iteraciones):\n",
    "    error=1\n",
    "    while error>cota:\n",
    "        xactual=xi-((fxsecan(xi)*(xo-xi))/(fxsecan(xo)-fxsecan(xi)))\n",
    "        error=errorabsoluto(xactual,xi)\n",
    "        xo=xi\n",
    "        xi=xactual\n",
    "        if error>=cota:\n",
    "            print (\"Raiz: \",xactual,\" Error: \",error)"
   ]
  },
  {
   "cell_type": "code",
   "execution_count": 22,
   "metadata": {},
   "outputs": [
    {
     "name": "stdout",
     "output_type": "stream",
     "text": [
      "Raiz:  0.6126998367802821  Error:  0.6321205588285577\n",
      "Raiz:  0.6992185622102247  Error:  0.12373631094182855\n"
     ]
    }
   ],
   "source": [
    "secante(0,1,0.01,10)"
   ]
  },
  {
   "cell_type": "code",
   "execution_count": null,
   "metadata": {},
   "outputs": [],
   "source": []
  }
 ],
 "metadata": {
  "kernelspec": {
   "display_name": "Python 3",
   "language": "python",
   "name": "python3"
  },
  "language_info": {
   "codemirror_mode": {
    "name": "ipython",
    "version": 3
   },
   "file_extension": ".py",
   "mimetype": "text/x-python",
   "name": "python",
   "nbconvert_exporter": "python",
   "pygments_lexer": "ipython3",
   "version": "3.8.5"
  }
 },
 "nbformat": 4,
 "nbformat_minor": 4
}
